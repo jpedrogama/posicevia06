{
  "nbformat": 4,
  "nbformat_minor": 0,
  "metadata": {
    "colab": {
      "provenance": [],
      "authorship_tag": "ABX9TyNOQySqkzz3+KgBloRuAzS7",
      "include_colab_link": true
    },
    "kernelspec": {
      "name": "python3",
      "display_name": "Python 3"
    },
    "language_info": {
      "name": "python"
    }
  },
  "cells": [
    {
      "cell_type": "markdown",
      "metadata": {
        "id": "view-in-github",
        "colab_type": "text"
      },
      "source": [
        "<a href=\"https://colab.research.google.com/github/jpedrogama/posicevia06/blob/main/Prova_IA_ICEV_06.ipynb\" target=\"_parent\"><img src=\"https://colab.research.google.com/assets/colab-badge.svg\" alt=\"Open In Colab\"/></a>"
      ]
    },
    {
      "cell_type": "markdown",
      "source": [
        "Hackathon Relâmpago - Caçadores de Fraudes\n",
        "\n",
        "Autores: João Pedro Gama Feitosa, Robson Medeiros Santos\n",
        "\n",
        "Data: 06/04/2025\n",
        "Objetivo: Detectar fraudes em lista de compras públicas utilizando Python."
      ],
      "metadata": {
        "id": "Vo3g2SffQlx4"
      }
    },
    {
      "cell_type": "markdown",
      "source": [
        "Importações e Carregamento de Dados"
      ],
      "metadata": {
        "id": "ZJIwXaulPHyH"
      }
    },
    {
      "cell_type": "code",
      "source": [
        "import pandas as pd\n",
        "import matplotlib.pyplot as plt\n",
        "import seaborn as sns\n",
        "\n",
        "df = pd.read_csv(\"public_servant_purchases_new.csv\")"
      ],
      "metadata": {
        "id": "1KVcz4B7POcm"
      },
      "execution_count": null,
      "outputs": []
    },
    {
      "cell_type": "markdown",
      "source": [
        "Definição das Funções"
      ],
      "metadata": {
        "id": "vAYbbfSEPSMB"
      }
    },
    {
      "cell_type": "code",
      "source": [
        "def criar_coluna_hora():\n",
        "  \"\"\"\n",
        "    Cria a coluna 'hora' a partir da data da compra no DataFrame global df.\n",
        "  \"\"\"\n",
        "  df['hora'] = pd.to_datetime(df['data_da_compra']).dt.time\n",
        "\n",
        "def filtrar_compras_acima_por_valor(compras, valor_minimo=1000):\n",
        "    \"\"\"\n",
        "    Retorna as compras com valor acima do valor mínimo.\n",
        "    \"\"\"\n",
        "    filtro = compras[compras['valor_em_real'] > valor_minimo].copy()\n",
        "    return filtro\n",
        "\n",
        "\n",
        "def contar_compras_severas(compras, hora_inicio_str='22:00', hora_fim_str='06:00', valor_minimo=1000):\n",
        "    \"\"\"\n",
        "    Conta quantas compras com valor alto foram feitas fora do horário informado.\n",
        "    \"\"\"\n",
        "    filtro = filtrar_compras_acima_por_valor(compras, valor_minimo) #Retorna somente as compras acima de 1000 com a coluna hora formatada\n",
        "    hora_inicio = pd.to_datetime(hora_inicio_str, format='%H:%M').time()\n",
        "    hora_fim = pd.to_datetime(hora_fim_str, format='%H:%M').time()\n",
        "    resultado = (filtro['hora'] < hora_inicio) | (filtro['hora'] > hora_fim);\n",
        "    return resultado.sum()\n",
        "\n",
        "\n",
        "def detectar_compras_duplicadas(compras):\n",
        "    \"\"\"\n",
        "    Verifica se há compras duplicadas e retorna o total encontrado.\n",
        "    \"\"\"\n",
        "    return compras.duplicated().sum()\n",
        "\n",
        "\n",
        "def verificar_valores_suspeitos(compras):\n",
        "    \"\"\"\n",
        "    Verifica quantas compras têm valor acima de 1000 e retorna o total.\n",
        "    \"\"\"\n",
        "    return (compras['valor_em_real'] > 1000).sum() #df[df['valor_em_real'] > 1000].sum()\n",
        "\n",
        "\n",
        "def compras_fora_de_horario(compras):\n",
        "    \"\"\"\n",
        "    Verifica quantas compras foram feitas fora do horário comercial.\n",
        "    \"\"\"\n",
        "    compras = compras.copy()\n",
        "    hora_inicio = pd.to_datetime('08:00', format='%H:%M').time()\n",
        "    hora_fim = pd.to_datetime('18:00', format='%H:%M').time()\n",
        "    compras['hora'] = pd.to_datetime(compras['data_da_compra']).dt.time\n",
        "    fora_do_horario = (compras['hora'] < hora_inicio) | (compras['hora'] > hora_fim)\n",
        "    return fora_do_horario.sum();\n",
        "\n",
        "\n",
        "def organizar_por_servidor(compras):\n",
        "    \"\"\"\n",
        "    Cria um dicionário com os nomes dos servidores e os itens comprados por cada um.\n",
        "    \"\"\"\n",
        "    group = df[['nome_do_funcionario', 'item_comprado']].groupby('nome_do_funcionario');\n",
        "    organizado = {}\n",
        "    for chave, grupo_dados in group:\n",
        "      organizado[list(grupo_dados['nome_do_funcionario'])[0]] = list(grupo_dados['item_comprado'])\n",
        "    return organizado\n",
        "\n",
        "\n",
        "def total_fraudes(compras):\n",
        "    \"\"\"\n",
        "    Soma o total de fraudes encontradas: duplicadas, acima do valor e fora do horário.\n",
        "    \"\"\"\n",
        "    return compras_fora_de_horario(compras) + verificar_valores_suspeitos(compras) + detectar_compras_duplicadas(compras)\n",
        "\n",
        "def por_tipo_fraude(compras):\n",
        "    \"\"\"\n",
        "    Retorna um dicionário com a quantidade de fraudes por tipo.\n",
        "    \"\"\"\n",
        "    return {\"Compras duplicadas\": int(detectar_compras_duplicadas(compras)), \"Acima do limite\": int(verificar_valores_suspeitos(compras)), \"Fora do horário comercial\": int(compras_fora_de_horario(compras))}\n",
        "\n",
        "\n",
        "\n",
        "def compras_dados_inconsistente(compras):\n",
        "    \"\"\"\n",
        "    Conta quantos dados estão errados no DataFrame de compras.\n",
        "\n",
        "    Verifica nomes que não são só letras, valores que não são números\n",
        "    e datas inválidas. Retorna um dicionário com essas quantidades.\n",
        "    \"\"\"\n",
        "    nome_inconsistente = compras['nome_do_funcionario'].apply(\n",
        "        lambda x: not isinstance(x, str) or not x.isalpha()\n",
        "    ).sum()\n",
        "    valor_inconsistente = compras['valor_em_real'].apply(\n",
        "        lambda x: not isinstance(x, (int, float))\n",
        "    ).sum()\n",
        "    datas_convertidas = pd.to_datetime(compras['data_da_compra'], errors='coerce')\n",
        "    data_inconsistente = datas_convertidas.isna().sum()\n",
        "\n",
        "    return {\n",
        "        'Nome inconsistente': int(nome_inconsistente),\n",
        "        'Valor inconsistente': int(valor_inconsistente),\n",
        "        'Data inconsistente': int(data_inconsistente)\n",
        "    }\n",
        "\n",
        "def gerar_relatorio(por_tipo_fraude):\n",
        "    df = pd.DataFrame({\n",
        "        'categoria': por_tipo_fraude.keys(),\n",
        "        'quantidade': por_tipo_fraude.values()\n",
        "    })\n",
        "    plt.figure(figsize=(8, 5))\n",
        "    sns.barplot(data=df, x='categoria', y='quantidade')\n",
        "\n",
        "    # Adicionar os valores no topo das barras\n",
        "    for index, row in df.iterrows():\n",
        "        plt.text(index, row['quantidade'], str(row['quantidade']), ha='center')\n",
        "\n",
        "    # Estilização\n",
        "    plt.title('Ocorrencias por categoria de fraude')\n",
        "    plt.ylabel('Quantidade')\n",
        "    plt.xlabel('Categoria')\n",
        "    plt.tight_layout()\n",
        "    # Mostrar o gráfico\n",
        "    plt.show()"
      ],
      "metadata": {
        "id": "GgmAxUdDPSvb"
      },
      "execution_count": 142,
      "outputs": []
    },
    {
      "cell_type": "markdown",
      "source": [
        "Execução da Análise e Visualização"
      ],
      "metadata": {
        "id": "F4t3HEO8Ply_"
      }
    },
    {
      "cell_type": "code",
      "source": [
        "# Preparação inicial\n",
        "print(\"Iniciando detecção de fraudes...\")\n",
        "criar_coluna_hora()\n",
        "print(\"Dados preparados com sucesso!\\n\")\n",
        "\n",
        "# Análise de compras suspeitas por severidade\n",
        "print(\"--- ANÁLISE DE COMPRAS SUSPEITAS ---\")\n",
        "print(f\"Quantidade de compras Nível de severidade alta: {contar_compras_severas(df)}\")\n",
        "print(f\"Quantidade de compras Nível de severidade média: {contar_compras_severas(df, '18:00','21:59')}\")\n",
        "\n",
        "# Análise de inconsistências nos dados\n",
        "print(\"\\n--- INCONSISTÊNCIAS NOS DADOS ---\")\n",
        "inconsistencias = compras_dados_inconsistente(df)\n",
        "print(inconsistencias)\n",
        "\n",
        "# Análise e visualização de tipos de fraude\n",
        "print(\"\\n--- TIPOS DE FRAUDE DETECTADOS ---\")\n",
        "fraudes = por_tipo_fraude(df)\n",
        "for tipo, qtd in fraudes.items():\n",
        "    print(f\"- {tipo}: {qtd}\")\n",
        "print(f\"\\nTotal de fraudes: {total_fraudes(df)}\")\n",
        "\n",
        "# Gerar relatório visual com as fraudes encontradas\n",
        "print(\"\\nGerando gráfico de fraudes...\")\n",
        "gerar_relatorio(por_tipo_fraude(df))"
      ],
      "metadata": {
        "colab": {
          "base_uri": "https://localhost:8080/",
          "height": 822
        },
        "id": "Prv6AZJQPmte",
        "outputId": "b98a2fc4-72bb-4fff-fbd2-dbaa37394bcf"
      },
      "execution_count": 147,
      "outputs": [
        {
          "output_type": "stream",
          "name": "stdout",
          "text": [
            "Iniciando detecção de fraudes...\n",
            "Dados preparados com sucesso!\n",
            "\n",
            "--- ANÁLISE DE COMPRAS SUSPEITAS ---\n",
            "Quantidade de compras Nível de severidade alta: 929\n",
            "Quantidade de compras Nível de severidade média: 828\n",
            "\n",
            "--- INCONSISTÊNCIAS NOS DADOS ---\n",
            "{'Nome inconsistente': 4260, 'Valor inconsistente': 0, 'Data inconsistente': 0}\n",
            "\n",
            "--- TIPOS DE FRAUDE DETECTADOS ---\n",
            "- Compras duplicadas: 0\n",
            "- Acima do limite: 929\n",
            "- Fora do horário comercial: 1297\n",
            "\n",
            "Total de fraudes: 2226\n",
            "\n",
            "Gerando gráfico de fraudes...\n"
          ]
        },
        {
          "output_type": "display_data",
          "data": {
            "text/plain": [
              "<Figure size 800x500 with 1 Axes>"
            ],
            "image/png": "[encoded data removed]"
          },
          "metadata": {}
        }
      ]
    },
    {
      "cell_type": "code",
      "execution_count": 141,
      "metadata": {
        "id": "k74GFJt_1ncj"
      },
      "outputs": [],
      "source": []
    }
  ]
}